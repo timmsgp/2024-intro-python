{
  "nbformat": 4,
  "nbformat_minor": 0,
  "metadata": {
    "colab": {
      "provenance": []
    },
    "kernelspec": {
      "name": "python3",
      "display_name": "Python 3"
    },
    "language_info": {
      "name": "python"
    }
  },
  "cells": [
    {
      "cell_type": "markdown",
      "source": [
        "#Welcome to the Session 2 Practice Exercises!\n",
        "Below is a selection of activities based on what you learned this week in class."
      ],
      "metadata": {
        "id": "R5Ut4tHR6Atd"
      }
    },
    {
      "cell_type": "markdown",
      "source": [
        "## Activity 1\n",
        "Create a list of at least 6 integers and iterate over it, dividing each integer by 2 and printing each result."
      ],
      "metadata": {
        "id": "hjfsRTZj-Zr0"
      }
    },
    {
      "cell_type": "code",
      "execution_count": null,
      "metadata": {
        "id": "UyXAkHjn5VMa"
      },
      "outputs": [],
      "source": [
        "#Activity 1 Completion Space\n",
        "\n",
        "\n",
        "\n"
      ]
    },
    {
      "cell_type": "markdown",
      "source": [
        "Click \"Show code\" below to see a sample solution to the activity."
      ],
      "metadata": {
        "id": "ru-vSGMW_k58"
      }
    },
    {
      "cell_type": "code",
      "source": [
        "# @title Activity 1 Solution { display-mode: \"form\" }\n",
        "intList = [18,104,56,72,54,2,22,35,78,200,674,6]\n",
        "\n",
        "#A for loop will iterate over every number in the list\n",
        "\n",
        "for num in intList:\n",
        "  print(num/2)\n",
        "\n",
        "#Notice that the resulting numbers are no longer integers, but floats!\n"
      ],
      "metadata": {
        "id": "VaBnLDyX_az8"
      },
      "execution_count": null,
      "outputs": []
    },
    {
      "cell_type": "markdown",
      "source": [
        "## Activity 2\n",
        "The dictionary \"gameDict\" contains board game titles and the average age of their players. Iterate over the dictionary and print both the game name and the age for each game."
      ],
      "metadata": {
        "id": "PbqWZvhuB0UE"
      }
    },
    {
      "cell_type": "code",
      "source": [
        "#Activity 2 Completion Space\n",
        "gameDict = {\"Candy Land\":4,\"Monopoly\":14,\"Settlers of Catan\":34,\"Terraforming Mars\":29,\"Trivial Pursuit\":47,\"Hungry Hungry Hippos\":5,\"Talisman\":33,\"Pandemic\":18}\n",
        "\n",
        "\n"
      ],
      "metadata": {
        "id": "1oqyds5pC7zX"
      },
      "execution_count": 3,
      "outputs": []
    },
    {
      "cell_type": "markdown",
      "source": [
        "Click \"Show code\" below to see a sample solution to the activity."
      ],
      "metadata": {
        "id": "ridBu5m_FrE9"
      }
    },
    {
      "cell_type": "code",
      "source": [
        "# @title Activity 2 Solution { display-mode: \"form\" }\n",
        "gameDict = {\"Candy Land\":4,\"Monopoly\":14,\"Settlers of Catan\":34,\"Terraforming Mars\":29,\"Trivial Pursuit\":47,\"Hungry Hungry Hippos\":5,\"Talisman\":33,\"Pandemic\":18}\n",
        "\n",
        "#Use a for loop to iterate. Remember that we must use the .items() method when iterating over dictionaries.\n",
        "for game, age in gameDict.items():\n",
        "  print(game, age)\n",
        "\n"
      ],
      "metadata": {
        "id": "G6r4qrzDE6PV"
      },
      "execution_count": null,
      "outputs": []
    },
    {
      "cell_type": "markdown",
      "source": [
        "## Activity 3\n",
        "Iterate over gameDict, this time printing only entries whose average player age is 18 or older (using if...else logic)."
      ],
      "metadata": {
        "id": "YxXsrGNFF_j2"
      }
    },
    {
      "cell_type": "code",
      "source": [
        "#Activity 3 Completion Space\n",
        "gameDict = {\"Candy Land\":4,\"Monopoly\":14,\"Settlers of Catan\":34,\"Terraforming Mars\":29,\"Trivial Pursuit\":47,\"Hungry Hungry Hippos\":5,\"Talisman\":33,\"Pandemic\":18}\n",
        "\n",
        "\n",
        "\n"
      ],
      "metadata": {
        "id": "4wAoFpC6GeFs"
      },
      "execution_count": null,
      "outputs": []
    },
    {
      "cell_type": "markdown",
      "source": [
        "Click \"Show code\" below to see a sample solution to the activity."
      ],
      "metadata": {
        "id": "Sr8ji3CRGxXb"
      }
    },
    {
      "cell_type": "code",
      "source": [
        "# @title Activity 3 Solution { display-mode: \"form\" }\n",
        "gameDict = {\"Candy Land\":4,\"Monopoly\":14,\"Settlers of Catan\":34,\"Terraforming Mars\":29,\"Trivial Pursuit\":47,\"Hungry Hungry Hippos\":5,\"Talisman\":33,\"Pandemic\":18}\n",
        "\n",
        "#We'll use a for loop again, but this time we'll need a conditional statement to test the age.\n",
        "for game, age in gameDict.items():\n",
        "  if age >= 18:      #This will test if the average age is greater than or equal to 18\n",
        "    print(game, age)\n",
        "  else:              #If the age is less than 18, the else statement will result in the next iteration of the loop without printing anything\n",
        "    pass\n"
      ],
      "metadata": {
        "id": "mz-R1j7ZG9fM"
      },
      "execution_count": null,
      "outputs": []
    },
    {
      "cell_type": "markdown",
      "source": [
        "## Activity 4\n",
        "Create a while loop to count the number of vowels in the word \"supercalifragilisticexpialidocious\"."
      ],
      "metadata": {
        "id": "a2mO3IqDIaOw"
      }
    },
    {
      "cell_type": "code",
      "source": [
        "#Activity 4 Completion Space\n",
        "\n",
        "\n",
        "\n"
      ],
      "metadata": {
        "id": "n-7gosCZJBQb"
      },
      "execution_count": null,
      "outputs": []
    },
    {
      "cell_type": "markdown",
      "source": [
        "Click \"Show code\" below to see a sample solution to the activity."
      ],
      "metadata": {
        "id": "PDP5UoyLJL_J"
      }
    },
    {
      "cell_type": "code",
      "source": [
        "# @title Activity 4 Solution { display-mode: \"form\" }\n",
        "\n",
        "#Create a variable to hold the word\n",
        "\n",
        "bigWord = \"supercalifragilisticexpialidocious\"\n",
        "\n",
        "#Create a list to hold all of the vowels you'll be testing for matches with\n",
        "\n",
        "vowelList = [\"a\",\"e\",\"i\",\"o\",\"u\"]\n",
        "\n",
        "#Create a loop counter\n",
        "\n",
        "count = 0\n",
        "\n",
        "#Create a vowel counter\n",
        "\n",
        "vowelCount = 0\n",
        "\n",
        "#Create a while loop that runs until you get to the end of the string\n",
        "\n",
        "while count < len(bigWord):\n",
        "  for vowel in vowelList:     #This for loop iterates through the vowel list, testing if the character at index \"count\" is a vowel\n",
        "    if bigWord[count] == vowel:\n",
        "      vowelCount = vowelCount + 1\n",
        "    else:\n",
        "      pass\n",
        "  count = count + 1  #No death loops!\n",
        "\n",
        "print(vowelCount)\n",
        "\n",
        "#This exercise could also be completed without making the vowel list by testing for a match with each vowel individually in separate conditionals,\n",
        "#but making a list uses less code.\n",
        "\n",
        "\n",
        "\n"
      ],
      "metadata": {
        "id": "cg4pLUJPJTGH"
      },
      "execution_count": null,
      "outputs": []
    },
    {
      "cell_type": "markdown",
      "source": [
        "## Activity 5\n",
        "listDict is a dictionary representing the most commonly reported favorite number among college students randomly sampled every day for four weeks. Each number in the value lists represents one day. Iterate over the dictionary and print every number less than 30."
      ],
      "metadata": {
        "id": "bvRAL3PCV81X"
      }
    },
    {
      "cell_type": "code",
      "source": [
        "#Activity 5 Completion Space\n",
        "\n",
        "listDict = {\"Week 1\":[6,9,14,34,2,3,10],\"Week 2\":[5,13,22,57,2,1,9],\"Week 3\":[8,80,54,32,6,21,63],\"Week 4\":[4,7,29,15,11,3,1]}\n",
        "\n"
      ],
      "metadata": {
        "id": "BQ_zP7LhWNUr"
      },
      "execution_count": null,
      "outputs": []
    },
    {
      "cell_type": "markdown",
      "source": [
        "Click \"Show code\" below to see a sample solution to the activity."
      ],
      "metadata": {
        "id": "UrGboS4wfIED"
      }
    },
    {
      "cell_type": "code",
      "source": [
        "# @title Activity 5 Solution { display-mode: \"form\" }\n",
        "listDict = {\"Week 1\":[6,9,14,34,2,3,10],\"Week 2\":[5,13,22,57,2,1,9],\"Week 3\":[8,80,54,32,6,21,63],\"Week 4\":[4,7,29,15,11,3,1]}\n",
        "\n",
        "for week, dayList in listDict.items():   #Iterate over the dictionary\n",
        "  print(\"----\")   #Divide weeks for aesthetics\n",
        "  for day in dayList:    #Iterate over list of days\n",
        "    if day < 30:\n",
        "      print(day)\n",
        "    else:\n",
        "      pass\n"
      ],
      "metadata": {
        "id": "RAiHgbVnfUa6"
      },
      "execution_count": null,
      "outputs": []
    }
  ]
}