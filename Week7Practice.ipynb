{
  "nbformat": 4,
  "nbformat_minor": 0,
  "metadata": {
    "colab": {
      "provenance": []
    },
    "kernelspec": {
      "name": "python3",
      "display_name": "Python 3"
    },
    "language_info": {
      "name": "python"
    }
  },
  "cells": [
    {
      "cell_type": "markdown",
      "source": [
        "#Welcome to the Session 7 Practice Exercises!\n",
        "Below is a selection of activities based on what you learned this week in class."
      ],
      "metadata": {
        "id": "9Jy3EZad3J1S"
      }
    },
    {
      "cell_type": "markdown",
      "source": [
        "##Activity 1\n",
        "Below is a simple class for building monsters in a video game. Create two instances of this class, add an ability to one, and display their attributes."
      ],
      "metadata": {
        "id": "obuO1TPw3a4I"
      }
    },
    {
      "cell_type": "code",
      "execution_count": null,
      "metadata": {
        "id": "1fHJEJdy3Ibv"
      },
      "outputs": [],
      "source": [
        "import random\n",
        "\n",
        "class Monster:\n",
        "  def __init__(self, name, health, attackDamage):\n",
        "    self.name = name\n",
        "    self.health = health\n",
        "    self.attackDamage = attackDamage\n",
        "    self.abilities = []\n",
        "\n",
        "  def add_ability(self, abilityName, abilityDamage):\n",
        "    ability = {\"Ability:\": abilityName, \"Damage:\": abilityDamage}\n",
        "    self.abilities.append(ability)\n",
        "\n",
        "  def display_info(self):\n",
        "    print(f\"Monster: {self.name}\")\n",
        "    print(f\"Current Health: {self.health}\")\n",
        "    print(f\"Attack Damage: {self.attackDamage}\")\n",
        "    print(f\"Special Abilities: \")\n",
        "    if len(self.abilities) == 0:\n",
        "      print(\"None\")\n",
        "    else:\n",
        "      for ability in self.abilities:\n",
        "        print(ability)\n"
      ]
    },
    {
      "cell_type": "code",
      "source": [
        "#Activity 1 Completion Space\n",
        "\n"
      ],
      "metadata": {
        "id": "wdayJjxn6JvZ"
      },
      "execution_count": null,
      "outputs": []
    },
    {
      "cell_type": "markdown",
      "source": [
        "Click \"Show code\" below to see a sample solution to the activity."
      ],
      "metadata": {
        "id": "nEVEy39f6N46"
      }
    },
    {
      "cell_type": "code",
      "source": [
        "# @title Activity 1 Solution { display-mode: \"form\" }\n",
        "\n",
        "Harpy = Monster(\"Harpy\", 72, 12)\n",
        "Charybdis = Monster(\"Charybdis\", 114, 20)\n",
        "\n",
        "Charybdis.add_ability(\"Water Spout\", 32)\n",
        "\n",
        "Harpy.display_info()\n",
        "print(\"--------\")\n",
        "Charybdis.display_info()\n"
      ],
      "metadata": {
        "id": "qsK-sGiV6RAK"
      },
      "execution_count": null,
      "outputs": []
    },
    {
      "cell_type": "markdown",
      "source": [
        "##Activity 2\n",
        "\n",
        "Below is a class designed to be initialized with a list of Monster objects. Create a combat object, have the current monster take damage, and display the monster's current stats."
      ],
      "metadata": {
        "id": "MRb9iqFl-SDj"
      }
    },
    {
      "cell_type": "code",
      "source": [
        "class Combat:\n",
        "  def __init__(self, monsters):\n",
        "    self.monsters = monsters\n",
        "    self.currentMonster = random.choice(monsters) #Selects a random entry in a list\n",
        "\n",
        "  def take_damage(self):\n",
        "    damage = random.randint(1,15) #Creates a random integer between 1 and 15\n",
        "    self.currentMonster.health = self.currentMonster.health - damage\n",
        "    print(f\"{self.currentMonster.name} takes {damage} damage!\")\n",
        "    if self.currentMonster.health <= 0:\n",
        "      print(f\"{self.currentMonster.name} has died!\")\n",
        "\n",
        "  def display_current_monster(self):\n",
        "    self.currentMonster.display_info()\n"
      ],
      "metadata": {
        "id": "6F_Y6scgAdog"
      },
      "execution_count": null,
      "outputs": []
    },
    {
      "cell_type": "code",
      "source": [
        "#Activity 2 Completion Space\n",
        "\n",
        "monsterList = [] #Put your monsters in this list!\n"
      ],
      "metadata": {
        "id": "vHn3S0s4hCf2"
      },
      "execution_count": null,
      "outputs": []
    },
    {
      "cell_type": "markdown",
      "source": [
        "Click \"Show code\" below to see a sample solution to the activity."
      ],
      "metadata": {
        "id": "m5uyZLPljC68"
      }
    },
    {
      "cell_type": "code",
      "source": [
        "# @title Activity 2 Solution { display-mode: \"form\" }\n",
        "\n",
        "monsterList = [Harpy, Charybdis]\n",
        "\n",
        "combatOne = Combat(monsterList)\n",
        "\n",
        "combatOne.take_damage()\n",
        "\n",
        "combatOne.display_current_monster()"
      ],
      "metadata": {
        "id": "qEyaoeFvjDg2"
      },
      "execution_count": null,
      "outputs": []
    },
    {
      "cell_type": "markdown",
      "source": [
        "##Activity 3\n",
        "\n",
        "Create a new method called \"heal\" for the Combat class that gives a monster 10 health and prints a message saying so. The class has been copied below for easy editing. Then, using the empty box below the class code, heal the current monster."
      ],
      "metadata": {
        "id": "XlEXkUFc7uOG"
      }
    },
    {
      "cell_type": "code",
      "source": [
        "class Combat:\n",
        "  def __init__(self, monsters):\n",
        "    self.monsters = monsters\n",
        "    self.currentMonster = random.choice(monsters) #Selects a random entry in a list\n",
        "\n",
        "  def take_damage(self):\n",
        "    damage = random.randint(1,15) #Creates a random integer between 1 and 15\n",
        "    self.currentMonster.health = self.currentMonster.health - damage\n",
        "    print(f\"{self.currentMonster.name} takes {damage} damage!\")\n",
        "    if self.currentMonster.health <= 0:\n",
        "      print(f\"{self.currentMonster.name} has died!\")\n",
        "\n",
        "  def display_current_monster(self):\n",
        "    self.currentMonster.display_info()"
      ],
      "metadata": {
        "id": "M38vyPcC9Nd2"
      },
      "execution_count": null,
      "outputs": []
    },
    {
      "cell_type": "code",
      "source": [
        "#Activity 3 Completion Space\n",
        "\n"
      ],
      "metadata": {
        "id": "UJxV-OE09RnT"
      },
      "execution_count": null,
      "outputs": []
    },
    {
      "cell_type": "markdown",
      "source": [
        "*Click* \"Show code\" below to see a sample solution to the activity."
      ],
      "metadata": {
        "id": "L6aet8ht9coI"
      }
    },
    {
      "cell_type": "code",
      "source": [
        "# @title Activity 3 Solution - New Method { display-mode: \"form\" }\n",
        "class Combat:\n",
        "  def __init__(self, monsters):\n",
        "    self.monsters = monsters\n",
        "    self.currentMonster = random.choice(monsters) #Selects a random entry in a list\n",
        "\n",
        "  def take_damage(self):\n",
        "    damage = random.randint(1,15) #Creates a random integer between 1 and 15\n",
        "    self.currentMonster.health = self.currentMonster.health - damage\n",
        "    print(f\"{self.currentMonster.name} takes {damage} damage!\")\n",
        "    if self.currentMonster.health <= 0:\n",
        "      print(f\"{self.currentMonster.name} has died!\")\n",
        "\n",
        "  def display_current_monster(self):\n",
        "    self.currentMonster.display_info()\n",
        "\n",
        "  def heal(self):\n",
        "    self.currentMonster.health = self.currentMonster.health + 10\n",
        "    print(f\"{self.currentMonster.name} has healed for 10 HP!\")\n",
        "    self.currentMonster.display_info()\n"
      ],
      "metadata": {
        "id": "wAlz0BZf9hbz"
      },
      "execution_count": null,
      "outputs": []
    },
    {
      "cell_type": "code",
      "source": [
        "# @title Activity 3 Solution - Method Implementation { display-mode: \"form\" }\n",
        "combatOne = Combat(monsterList)\n",
        "combatOne.heal()\n"
      ],
      "metadata": {
        "id": "dIqKpitS9o9q"
      },
      "execution_count": null,
      "outputs": []
    }
  ]
}