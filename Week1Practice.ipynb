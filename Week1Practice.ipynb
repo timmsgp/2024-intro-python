{
  "nbformat": 4,
  "nbformat_minor": 0,
  "metadata": {
    "colab": {
      "provenance": []
    },
    "kernelspec": {
      "name": "python3",
      "display_name": "Python 3"
    },
    "language_info": {
      "name": "python"
    }
  },
  "cells": [
    {
      "cell_type": "markdown",
      "source": [
        "# Welcome to the Session 1 Practice Exercises!\n",
        "Below is a selection of activities based on what you learned this week in class."
      ],
      "metadata": {
        "id": "zCZoaOD27IbG"
      }
    },
    {
      "cell_type": "markdown",
      "source": [
        "## Activity 1\n",
        "Create a string variable and print its length."
      ],
      "metadata": {
        "id": "D4Psj6RB7S0y"
      }
    },
    {
      "cell_type": "code",
      "execution_count": null,
      "metadata": {
        "id": "9Ph2quEJ6jt5"
      },
      "outputs": [],
      "source": [
        "#Activity 1 Completion Space\n",
        "\n",
        "\n"
      ]
    },
    {
      "cell_type": "markdown",
      "source": [
        "Click \"Show code\" below to see a sample solution to the activity."
      ],
      "metadata": {
        "id": "lxjWQx8l7xwp"
      }
    },
    {
      "cell_type": "code",
      "source": [
        "# @title Activity 1 Solution { display-mode: \"form\" }\n",
        "\n",
        "myWord = \"piano\"\n",
        "\n",
        "print(len(myWord))\n"
      ],
      "metadata": {
        "id": "fG0-MhdL70Kb"
      },
      "execution_count": null,
      "outputs": []
    },
    {
      "cell_type": "markdown",
      "source": [
        "## Activity 2\n",
        "Create a list variable containing several items and print the first item."
      ],
      "metadata": {
        "id": "P0bt1k4L8Nwy"
      }
    },
    {
      "cell_type": "code",
      "source": [
        "#Activity 2 Completion Space\n",
        "\n",
        "\n"
      ],
      "metadata": {
        "id": "pQM6Up4_8iOm"
      },
      "execution_count": null,
      "outputs": []
    },
    {
      "cell_type": "markdown",
      "source": [
        "Click \"Show code\" below to see a sample solution to the activity."
      ],
      "metadata": {
        "id": "bC7QhwL78m5Q"
      }
    },
    {
      "cell_type": "code",
      "source": [
        "# @title Activity 2 Solution { display-mode: \"form\" }\n",
        "\n",
        "myList = [3,42,21,76,89,33]\n",
        "\n",
        "print(myList[0]) #Remember that list indices start at 0 in Python\n"
      ],
      "metadata": {
        "id": "NKrvhGuh8l4n"
      },
      "execution_count": null,
      "outputs": []
    },
    {
      "cell_type": "markdown",
      "source": [
        "## Activity 3\n",
        "Replace the value of the third item in \"numList\" with the number 78. Additionally, remove the last item in the list. Print the final list."
      ],
      "metadata": {
        "id": "wQi1vIKh9HQS"
      }
    },
    {
      "cell_type": "code",
      "source": [
        "#Activity 3 Completion Space\n",
        "numList = [4,21,89,65,34,102,77,26,15,19,3]\n",
        "\n"
      ],
      "metadata": {
        "id": "kMzGU_-A9_0s"
      },
      "execution_count": null,
      "outputs": []
    },
    {
      "cell_type": "markdown",
      "source": [
        "Click \"Show code\" below to see a sample solution to the activity."
      ],
      "metadata": {
        "id": "X4bWyLCI-D6y"
      }
    },
    {
      "cell_type": "code",
      "source": [
        "# @title Activity 3 Solution { display-mode: \"form\" }\n",
        "\n",
        "numList = [4,21,89,65,34,102,77,26,15,19,3]\n",
        "\n",
        "numList[2] = 78\n",
        "numList.pop()\n",
        "\n",
        "print(numList)\n"
      ],
      "metadata": {
        "id": "lgk1T37d-ErQ"
      },
      "execution_count": null,
      "outputs": []
    },
    {
      "cell_type": "markdown",
      "source": [
        "## Activity 4\n",
        "Test and print the type of the variable catNames."
      ],
      "metadata": {
        "id": "kS-si6JD-hW5"
      }
    },
    {
      "cell_type": "code",
      "source": [
        "#Activity 4 Completion Space\n",
        "catNames = [\"Barnum\",\"Bailey\",\"Ringo\",\"Sekania\",\"Mufasa\",\"Scout\",\"Belle\",\"Angel\"]\n",
        "\n"
      ],
      "metadata": {
        "id": "gUt2oLGk-8Vp"
      },
      "execution_count": null,
      "outputs": []
    },
    {
      "cell_type": "markdown",
      "source": [
        "Click \"Show code\" below to see a sample solution to the activity."
      ],
      "metadata": {
        "id": "CTGUbw5__Vcd"
      }
    },
    {
      "cell_type": "code",
      "source": [
        "# @title Activity 4 Solution { display-mode: \"form\" }\n",
        "\n",
        "catNames = [\"Barnum\",\"Bailey\",\"Ringo\",\"Sekania\",\"Mufasa\",\"Scout\",\"Belle\",\"Angel\"]\n",
        "\n",
        "print(type(catNames))"
      ],
      "metadata": {
        "id": "qLv_FObL_ZKC"
      },
      "execution_count": null,
      "outputs": []
    },
    {
      "cell_type": "markdown",
      "source": [
        "## Activity 5\n",
        "Add two new strings to catNames: one at the end and one at index 2. Print the result."
      ],
      "metadata": {
        "id": "poPfsXWT_z5y"
      }
    },
    {
      "cell_type": "code",
      "source": [
        "#Activity 5 Completion Space\n",
        "\n",
        "\n"
      ],
      "metadata": {
        "id": "CNVnOTQ-EmHw"
      },
      "execution_count": null,
      "outputs": []
    },
    {
      "cell_type": "markdown",
      "source": [
        "Click \"Show code\" below to see a sample solution to the activity."
      ],
      "metadata": {
        "id": "liaMZq4oEqUJ"
      }
    },
    {
      "cell_type": "code",
      "source": [
        "# @title Activity 5 Solution { display-mode: \"form\" }\n",
        "\n",
        "catNames.append(\"Noodle\")\n",
        "catNames.insert(2,\"Zeke\") #Note that index 2 is the third item in the list.\n",
        "\n",
        "print(catNames)\n",
        "\n"
      ],
      "metadata": {
        "id": "0O23aqTREx6x"
      },
      "execution_count": null,
      "outputs": []
    },
    {
      "cell_type": "markdown",
      "source": [
        "## Activity 6\n",
        "Create a dictionary containing ride data from a county fair. The following ride names should be the keys and the number of rides should be the values.\n",
        "\n",
        "*   Carousel - 402 rides\n",
        "*   Zipper - 324 rides\n",
        "*   Gravitron - 202 rides\n",
        "*   Bobsleds - 167 rides\n",
        "\n",
        "Print the keys and values seperately."
      ],
      "metadata": {
        "id": "FUQsDssYFO_b"
      }
    },
    {
      "cell_type": "code",
      "source": [
        "#Activity 6 Completion Space\n",
        "\n",
        "\n"
      ],
      "metadata": {
        "id": "LfG-RsRjGTPp"
      },
      "execution_count": null,
      "outputs": []
    },
    {
      "cell_type": "markdown",
      "source": [
        "Click \"Show code\" below to see a sample solution to the activity."
      ],
      "metadata": {
        "id": "67wPHWeuGWgC"
      }
    },
    {
      "cell_type": "code",
      "source": [
        "# @title Activity 6 Solution { display-mode: \"form\" }\n",
        "\n",
        "rideDict = {\"Carousel\":402,\"Zipper\":324,\"Gravitron\":202,\"Bobsleds\":167}\n",
        "\n",
        "print(rideDict.keys())\n",
        "print(rideDict.values())\n"
      ],
      "metadata": {
        "id": "-x9VcI3xGWIq"
      },
      "execution_count": null,
      "outputs": []
    }
  ]
}