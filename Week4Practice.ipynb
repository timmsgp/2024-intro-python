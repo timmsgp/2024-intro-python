{
  "nbformat": 4,
  "nbformat_minor": 0,
  "metadata": {
    "colab": {
      "provenance": []
    },
    "kernelspec": {
      "name": "python3",
      "display_name": "Python 3"
    },
    "language_info": {
      "name": "python"
    }
  },
  "cells": [
    {
      "cell_type": "markdown",
      "source": [
        "#Welcome to the Session 4 Practice Exercises!\n",
        "\n",
        "\n",
        "Below is a selection of activities based on what you learned this week in class."
      ],
      "metadata": {
        "id": "R5Ut4tHR6Atd"
      }
    },
    {
      "cell_type": "markdown",
      "source": [
        "## Activity 1\n",
        "Import the Pandas library \"pandas\" with an alias of \"pd\" and then set the display options to show all rows and columns of dataframes when printed."
      ],
      "metadata": {
        "id": "hjfsRTZj-Zr0"
      }
    },
    {
      "cell_type": "code",
      "execution_count": null,
      "metadata": {
        "id": "UyXAkHjn5VMa"
      },
      "outputs": [],
      "source": [
        "#Activity 1 Completion Space\n",
        "\n",
        "\n"
      ]
    },
    {
      "cell_type": "markdown",
      "source": [
        "Click \"Show code\" below to see a sample solution to the activity."
      ],
      "metadata": {
        "id": "ru-vSGMW_k58"
      }
    },
    {
      "cell_type": "code",
      "source": [
        "# @title Activity 1 Solution { display-mode: \"form\" }\n",
        "import pandas as pd\n",
        "\n",
        "pd.set_option('display.max_rows', None)\n",
        "pd.set_option('display.max_columns', None)"
      ],
      "metadata": {
        "id": "VaBnLDyX_az8"
      },
      "execution_count": 1,
      "outputs": []
    },
    {
      "cell_type": "markdown",
      "source": [
        "## Activity 2\n",
        "The dataset for these practice exercises is in the CSV file found on the course GitHub repository at https://raw.githubusercontent.com/timmsgp/2024-intro-python/main/harbor-water-data.csv\n",
        "\n",
        "Read the CSV file into a dataframe called **chaswater** and print it.\n",
        "\n",
        "---\n",
        "\n",
        "###The dataset attribution:\n",
        "\n",
        "Pinckney, J. (2022) Vertical profiles of water quality parameters at sampling stations in the South Atlantic Bight from 2015-2020 (SAB BMA project). Biological and Chemical Oceanography Data Management Office (BCO-DMO). (Version 1) Version Date 2022-10-24. doi:10.26008/1912/bco-dmo.882177.1 Accessed 2/1/2024. Used under CC-BY 4.0 license."
      ],
      "metadata": {
        "id": "PbqWZvhuB0UE"
      }
    },
    {
      "cell_type": "code",
      "source": [
        "#Activity 2 Completion Space\n",
        "\n",
        "\n"
      ],
      "metadata": {
        "id": "1oqyds5pC7zX"
      },
      "execution_count": null,
      "outputs": []
    },
    {
      "cell_type": "markdown",
      "source": [
        "*Click* \"Show code\" below to see a sample solution to the activity."
      ],
      "metadata": {
        "id": "ridBu5m_FrE9"
      }
    },
    {
      "cell_type": "code",
      "source": [
        "# @title Activity 2 Solution { display-mode: \"form\" }\n",
        "\n",
        "chaswater=pd.read_csv(\"https://raw.githubusercontent.com/timmsgp/2024-intro-python/main/harbor-water-data.csv\") #File is in a GitHub repository.\n",
        "\n",
        "print(chaswater)\n"
      ],
      "metadata": {
        "id": "G6r4qrzDE6PV"
      },
      "execution_count": null,
      "outputs": []
    },
    {
      "cell_type": "markdown",
      "source": [
        "## Activity 3\n",
        "Print the summary data of the dataframe using the .describe() method. Then print the datatypes attribute of the dataframe using .dtypes."
      ],
      "metadata": {
        "id": "YxXsrGNFF_j2"
      }
    },
    {
      "cell_type": "code",
      "source": [
        "#Activity 3 Completion Space\n",
        "\n",
        "\n"
      ],
      "metadata": {
        "id": "4wAoFpC6GeFs"
      },
      "execution_count": null,
      "outputs": []
    },
    {
      "cell_type": "markdown",
      "source": [
        "Click \"Show code\" below to see a sample solution to the activity."
      ],
      "metadata": {
        "id": "Sr8ji3CRGxXb"
      }
    },
    {
      "cell_type": "code",
      "source": [
        "# @title Activity 3 Solution { display-mode: \"form\" }\n",
        "\n",
        "print(chaswater.describe())\n",
        "print(chaswater.dtypes)\n"
      ],
      "metadata": {
        "id": "mz-R1j7ZG9fM"
      },
      "execution_count": null,
      "outputs": []
    },
    {
      "cell_type": "markdown",
      "source": [
        "## Activity 4\n",
        "Print the the counts of each of the values in the Location column. That is, the number of occurences of each distinct location."
      ],
      "metadata": {
        "id": "a2mO3IqDIaOw"
      }
    },
    {
      "cell_type": "code",
      "source": [
        "#Activity 4 Completion Space\n",
        "\n",
        "\n"
      ],
      "metadata": {
        "id": "n-7gosCZJBQb"
      },
      "execution_count": null,
      "outputs": []
    },
    {
      "cell_type": "markdown",
      "source": [
        "Click \"Show code\" below to see a sample solution to the activity."
      ],
      "metadata": {
        "id": "PDP5UoyLJL_J"
      }
    },
    {
      "cell_type": "code",
      "source": [
        "# @title Activity 4 Solution { display-mode: \"form\" }\n",
        "\n",
        "print(chaswater['Location'].value_counts())\n"
      ],
      "metadata": {
        "id": "cg4pLUJPJTGH"
      },
      "execution_count": null,
      "outputs": []
    },
    {
      "cell_type": "markdown",
      "source": [
        "## Activity 5\n",
        "Select and print only the rows where the sampling depth was greater than or equal to 5 meters. Only show the columns Location, Temp, Sal, DO, and pH.\n",
        "\n",
        "Hints:\n",
        "* Use the .loc method to use column names.\n",
        "* .loc() first specifies rows (you'll have your conditional logic here) and then columns (you'll specify the columns you want to see here).\n"
      ],
      "metadata": {
        "id": "bvRAL3PCV81X"
      }
    },
    {
      "cell_type": "code",
      "source": [
        "#Activity 5 Completion Space\n",
        "\n"
      ],
      "metadata": {
        "id": "BQ_zP7LhWNUr"
      },
      "execution_count": null,
      "outputs": []
    },
    {
      "cell_type": "markdown",
      "source": [
        "Click \"Show code\" below to see a sample solution to the activity."
      ],
      "metadata": {
        "id": "UrGboS4wfIED"
      }
    },
    {
      "cell_type": "code",
      "source": [
        "# @title Activity 5 Solution { display-mode: \"form\" }\n",
        "print(chaswater.loc[chaswater['Depth'] > 5,[\"Location\",\"Temp\",\"Sal\",\"DO\",\"pH\"]])\n",
        "\n",
        "#This is of the structure Dataframe.loc[row selector,columm selector]"
      ],
      "metadata": {
        "id": "RAiHgbVnfUa6"
      },
      "execution_count": null,
      "outputs": []
    },
    {
      "cell_type": "markdown",
      "source": [
        "## Activity 6\n",
        "Print the mean of the temperatures observed on Cruise 1.\n",
        "\n",
        "Hint:\n",
        "* You'll select all the rows for Cruise 1, showing the temperature column\n",
        "* You'll apply the .mean() method at the end of the selection statement."
      ],
      "metadata": {
        "id": "mwA7IE-wXqoK"
      }
    },
    {
      "cell_type": "code",
      "source": [
        "#Activity 6 Completion Space\n",
        "\n",
        "\n"
      ],
      "metadata": {
        "id": "id4ANJCxXl2N"
      },
      "execution_count": null,
      "outputs": []
    },
    {
      "cell_type": "code",
      "source": [
        "# @title Activity 6 Solution { display-mode: \"form\" }\n",
        "\n",
        "print(chaswater.loc[chaswater['Cruise']==1,[\"Cruise\",\"Temp\"]].mean())\n"
      ],
      "metadata": {
        "id": "zK20ZOgdXux-"
      },
      "execution_count": null,
      "outputs": []
    },
    {
      "cell_type": "markdown",
      "source": [
        "## Activity 7\n",
        "Delete the \"Sigma_t\" column from the dataframe and then check to make sure it is gone from the dataframe by viewing only the first ten rows."
      ],
      "metadata": {
        "id": "lLqAkIVH_lJF"
      }
    },
    {
      "cell_type": "code",
      "source": [
        "#Activity 7 Completion Space\n",
        "\n",
        "\n"
      ],
      "metadata": {
        "id": "_ieH0-pW_lJI"
      },
      "execution_count": null,
      "outputs": []
    },
    {
      "cell_type": "code",
      "source": [
        "# @title Activity 7 Solution { display-mode: \"form\" }\n",
        "\n",
        "chaswater.drop(columns=['Sigma_t'],inplace=True)\n",
        "\n",
        "chaswater.head(10)"
      ],
      "metadata": {
        "id": "FvehXFU9_lJJ"
      },
      "execution_count": null,
      "outputs": []
    },
    {
      "cell_type": "markdown",
      "source": [
        "# If you wish, try other operations on this dataframe in the code space below. Learning Pandas is best achieved by experimenting!"
      ],
      "metadata": {
        "id": "NLpeooYQBp6Y"
      }
    },
    {
      "cell_type": "code",
      "source": [
        "\n",
        "\n",
        "\n",
        "\n",
        "\n",
        "\n",
        "\n"
      ],
      "metadata": {
        "id": "60prRtQ-B4mv"
      },
      "execution_count": null,
      "outputs": []
    }
  ]
}