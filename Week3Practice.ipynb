{
  "nbformat": 4,
  "nbformat_minor": 0,
  "metadata": {
    "colab": {
      "provenance": []
    },
    "kernelspec": {
      "name": "python3",
      "display_name": "Python 3"
    },
    "language_info": {
      "name": "python"
    }
  },
  "cells": [
    {
      "cell_type": "markdown",
      "source": [
        "# Welcome to the Session 3 Practice Exercises!\n",
        "Below is a selection of activities based on what you learned this week in class."
      ],
      "metadata": {
        "id": "ZO1GfcYa4dmG"
      }
    },
    {
      "cell_type": "markdown",
      "source": [
        "## Activity 1\n",
        "Create a function that divides a given number by 10. Pass the function an argument, return the result of the calculation, and then print the result."
      ],
      "metadata": {
        "id": "sAQKtkxc4wkL"
      }
    },
    {
      "cell_type": "code",
      "execution_count": null,
      "metadata": {
        "id": "S9PGZT5S1knN"
      },
      "outputs": [],
      "source": [
        "#Activity 1 Completion Space\n",
        "\n",
        "\n",
        "\n"
      ]
    },
    {
      "cell_type": "markdown",
      "source": [
        "Click \"Show code\" below to see a sample solution to the activity."
      ],
      "metadata": {
        "id": "-AeIyONX5Ty8"
      }
    },
    {
      "cell_type": "code",
      "source": [
        "# @title Activity 1 Solution { display-mode: \"form\" }\n",
        "\n",
        "def tenDivide(num): #Use \"def\" to define a function. provide one parameter to represent the received number.\n",
        "  return num/10     #The \"return\" statement represents the ultimate output of the function\n",
        "\n",
        "ber = tenDivide(78) #Assigns the value returned by the function to a variable\n",
        "print(ber)\n",
        "\n",
        "#Note that if you passed a non-numerical variable type to this function, such as a string, Python would throw an error."
      ],
      "metadata": {
        "id": "xwd1QhPZ5Xt8"
      },
      "execution_count": null,
      "outputs": []
    },
    {
      "cell_type": "markdown",
      "source": [
        "## Activity 2\n",
        "Create a function that counts the number of letter e's in the given string. Return the result and then print it."
      ],
      "metadata": {
        "id": "KdTg5Jlv6uPG"
      }
    },
    {
      "cell_type": "code",
      "source": [
        "#Activity 3 Completion Space\n",
        "\n",
        "eString = \"hope is the thing with feathers that perches in the soul and sings the tune without the words and never stops at all\"\n",
        "\n",
        "\n"
      ],
      "metadata": {
        "id": "Lnixb4wA9YSv"
      },
      "execution_count": null,
      "outputs": []
    },
    {
      "cell_type": "markdown",
      "source": [
        "Click \"Show code\" below to see a sample solution to the activity."
      ],
      "metadata": {
        "id": "jiiNmaP6-TFV"
      }
    },
    {
      "cell_type": "code",
      "source": [
        "# @title Activity 2 Solution { display-mode: \"form\" }\n",
        "\n",
        "eString = \"hope is the thing with feathers that perches in the soul and sings the tune without the words and never stops at all\"\n",
        "\n",
        "def eCounter(phrase):\n",
        "  count = 0  #Create a counter for the while loop\n",
        "  eCount = 0 #Create a counter for the number of e's. This is what the function will ultimately return.\n",
        "\n",
        "  while count < len(phrase):\n",
        "    if phrase[count] == \"e\": #Check if each character in the string is an e\n",
        "      eCount = eCount + 1\n",
        "    else:\n",
        "      pass\n",
        "    count = count + 1 #No death loops!\n",
        "\n",
        "  return eCount\n",
        "\n",
        "eNum = eCounter(eString)\n",
        "print(eNum)"
      ],
      "metadata": {
        "id": "JoiQBoNH-W3o"
      },
      "execution_count": null,
      "outputs": []
    },
    {
      "cell_type": "markdown",
      "source": [
        "## Activity 3\n",
        "Create a function that determines the fate of a dictionary of dog Halloween costumes. The function should return a dictionary of outcomes (decisions). For each costume, if the dog will wear it, assign \"Keep\". If the dog will not wear the costume, assign \"Donate\". Return the results and then print them."
      ],
      "metadata": {
        "id": "oiL4HPVrAY1F"
      }
    },
    {
      "cell_type": "code",
      "source": [
        "#Activity 3 Completion Space\n",
        "\n",
        "costumeDict = {\"bat\":\"wear\",\"pumpkin\":\"won't wear\",\"bee\":\"won't wear\",\"angel\":\"wear\",\"dinosaur\":\"wear\",\"dragon\":\"won't wear\",\"cat\":\"won't wear\"}\n",
        "\n",
        "\n"
      ],
      "metadata": {
        "id": "g2epXqAZBl-J"
      },
      "execution_count": null,
      "outputs": []
    },
    {
      "cell_type": "markdown",
      "source": [
        "Click \"Show code\" below to see a sample solution to the activity."
      ],
      "metadata": {
        "id": "g4wr1iHmCgzA"
      }
    },
    {
      "cell_type": "code",
      "source": [
        "# @title Activity 3 Solution { display-mode: \"form\" }\n",
        "\n",
        "costumeDict = {\"bat\":\"wear\",\"pumpkin\":\"won't wear\",\"bee\":\"won't wear\",\"angel\":\"wear\",\"dinosaur\":\"wear\",\"dragon\":\"won't wear\",\"cat\":\"won't wear\"}\n",
        "\n",
        "def costumeFate(dogCostumes):\n",
        "  cosDict = {} #Create an empty dictionary to store the output\n",
        "\n",
        "  for costume, decision in dogCostumes.items(): #Iterate over the dictionary we pass to the function\n",
        "    if dogCostumes[costume] == \"wear\":   #Only assign keep if the value of the key is \"wear\". Any other case can be immediately assigned \"Donate\".\n",
        "      cosDict[costume] = \"Keep\"\n",
        "    else:\n",
        "      cosDict[costume] = \"Donate\"\n",
        "\n",
        "  return cosDict\n",
        "\n",
        "result = costumeFate(costumeDict)\n",
        "\n",
        "print(result)\n",
        "\n"
      ],
      "metadata": {
        "id": "-k0oIlArCjY0"
      },
      "execution_count": null,
      "outputs": []
    }
  ]
}