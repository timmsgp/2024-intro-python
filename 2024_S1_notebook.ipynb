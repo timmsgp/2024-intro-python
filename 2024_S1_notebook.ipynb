{
  "metadata": {
    "orig_nbformat": 4,
    "kernelspec": {
      "display_name": "Python 3 (ipykernel)",
      "language": "python",
      "name": "python3"
    },
    "language_info": {
      "name": "python",
      "version": "3.10.0",
      "mimetype": "text/x-python",
      "codemirror_mode": {
        "name": "ipython",
        "version": 3
      },
      "pygments_lexer": "ipython3",
      "nbconvert_exporter": "python",
      "file_extension": ".py"
    },
    "colab": {
      "provenance": []
    }
  },
  "nbformat_minor": 5,
  "nbformat": 4,
  "cells": [
    {
      "cell_type": "markdown",
      "source": [
        "# Welcome to Session 1 - Data Types and Data Structures"
      ],
      "metadata": {
        "tags": [],
        "id": "7a8c2b09"
      },
      "id": "7a8c2b09"
    },
    {
      "cell_type": "markdown",
      "source": [
        "In this session, we're going to master some basic data types and simple data structures. These are the nuts and bolts of writing code."
      ],
      "metadata": {
        "id": "08aa4b0c"
      },
      "id": "08aa4b0c"
    },
    {
      "cell_type": "markdown",
      "source": [
        "First, to help make code more understandable, we can annotate it with comments. The comments are not interpreted by the code; they are just there for our benefit."
      ],
      "metadata": {
        "id": "Itx9Qz4K_Xyz"
      },
      "id": "Itx9Qz4K_Xyz"
    },
    {
      "cell_type": "code",
      "source": [
        "# Understanding code can be helped by providing explanatory comments.\n",
        "# In Python a single comment line is preceded by the # symbol so that the\n",
        "# text will not be 'run' or 'interpreted' when the script is run\n",
        "\n",
        "'''\n",
        "A block of text can be \"commented out\" using triple quotes before and after the text. This is useful for a longer body of text.\n",
        "It can also be used to comment out a section code that you don't want to be interpreted when you run it.\n",
        "\n",
        "'''"
      ],
      "metadata": {
        "id": "b2943ba6"
      },
      "execution_count": null,
      "outputs": [],
      "id": "b2943ba6"
    },
    {
      "cell_type": "markdown",
      "source": [
        "## Four Data Types"
      ],
      "metadata": {
        "tags": [],
        "id": "902365df"
      },
      "id": "902365df"
    },
    {
      "cell_type": "markdown",
      "source": [
        "**Integer** - 4 is an integer (a whole number)\n",
        "\n",
        "\n",
        "**Float** - 3.14 is a float (a decimal number)\n",
        "\n",
        "\n",
        "**String** - 'fish' and \"octopus\" are strings (a string is text, or mixed alphanumeric and special characters)\n",
        "        Note that strings are always placed in single or double quotation marks\n",
        "\n",
        "**Boolean** - True or False. These are not strings and are not put in quotes. They are Boolean values\n"
      ],
      "metadata": {
        "id": "68f4f4ed"
      },
      "id": "68f4f4ed"
    },
    {
      "cell_type": "markdown",
      "source": [
        "### Variables Hold Data"
      ],
      "metadata": {
        "id": "b755f4ae"
      },
      "id": "b755f4ae"
    },
    {
      "cell_type": "markdown",
      "source": [
        "We can think of a variable as a label for something. We use the label to reference it. Variables are *defined* or *assigned* values with the = sign.\n",
        "\n",
        "The = sign is called an *assignment operator*"
      ],
      "metadata": {
        "id": "324fef5b"
      },
      "id": "324fef5b"
    },
    {
      "cell_type": "code",
      "source": [
        "mynumber = 2\n",
        "myfish = 'Red drum'\n",
        "myfish_length_cm = 28.5\n",
        "myboolean = True"
      ],
      "metadata": {
        "id": "925628f2"
      },
      "execution_count": null,
      "outputs": [],
      "id": "925628f2"
    },
    {
      "cell_type": "markdown",
      "source": [
        "### Built in Functions"
      ],
      "metadata": {
        "id": "1f410c7e"
      },
      "id": "1f410c7e"
    },
    {
      "cell_type": "markdown",
      "source": [
        "Python has built in 'functions' which perform specific tasks. Functions often require variables because they do something to/with those variables. Here are a couple of functions that we can use with our variables.\n",
        "\n",
        "The function name is listed first, followed by parentheses into which the variable or variables are placed.\n",
        "The print() function prints things on the screen"
      ],
      "metadata": {
        "id": "3d94a023"
      },
      "id": "3d94a023"
    },
    {
      "cell_type": "markdown",
      "source": [
        "#### The print() Function"
      ],
      "metadata": {
        "id": "3d4eac4a-ee3e-46fc-a9e3-a5f7d8c6e119"
      },
      "id": "3d4eac4a-ee3e-46fc-a9e3-a5f7d8c6e119"
    },
    {
      "cell_type": "code",
      "source": [
        "print(myfish)"
      ],
      "metadata": {
        "id": "10d63d46-9569-464e-8f52-d134eb13dfd5"
      },
      "execution_count": null,
      "outputs": [],
      "id": "10d63d46-9569-464e-8f52-d134eb13dfd5"
    },
    {
      "cell_type": "code",
      "source": [
        "#You can also pass multiple variables to the print function\n",
        "\n",
        "print(mynumber, myfish, myfish_length_cm, myboolean)"
      ],
      "metadata": {
        "id": "37ed927c"
      },
      "execution_count": null,
      "outputs": [],
      "id": "37ed927c"
    },
    {
      "cell_type": "markdown",
      "source": [
        "### Question 1"
      ],
      "metadata": {
        "id": "b196ece4"
      },
      "id": "b196ece4"
    },
    {
      "cell_type": "markdown",
      "source": [
        "What is the difference between these two variables?\n",
        "\n",
        "a = 2\n",
        "\n",
        "b = '2'"
      ],
      "metadata": {
        "id": "8bbc48a9"
      },
      "id": "8bbc48a9"
    },
    {
      "cell_type": "markdown",
      "source": [
        "The variable type impacts what you can do with it. Can we add a and b?"
      ],
      "metadata": {
        "id": "722777ca"
      },
      "id": "722777ca"
    },
    {
      "cell_type": "code",
      "source": [
        "a = 2\n",
        "b = '2'\n",
        "\n",
        "print(a+b)"
      ],
      "metadata": {
        "scrolled": true,
        "id": "b893bd6f"
      },
      "execution_count": null,
      "outputs": [],
      "id": "b893bd6f"
    },
    {
      "cell_type": "markdown",
      "source": [
        "Try assigning an integer to the variable b and then print the result of adding a and b"
      ],
      "metadata": {
        "id": "f4270a78"
      },
      "id": "f4270a78"
    },
    {
      "cell_type": "code",
      "source": [
        "a = 2\n",
        "b =\n",
        "\n",
        "print(a+b)"
      ],
      "metadata": {
        "id": "a768dae7"
      },
      "execution_count": null,
      "outputs": [],
      "id": "a768dae7"
    },
    {
      "cell_type": "markdown",
      "source": [
        "We need to be aware of the variable type so that we know what we can do with it.\n",
        "This is especially important if we didn't create the variable ourselves."
      ],
      "metadata": {
        "id": "670c521d-da1e-4df5-ba69-e7dd5acd5eaf"
      },
      "id": "670c521d-da1e-4df5-ba69-e7dd5acd5eaf"
    },
    {
      "cell_type": "markdown",
      "source": [
        "#### The type() Function"
      ],
      "metadata": {
        "id": "e8511bd7-0890-47af-aaac-29ade6333540"
      },
      "id": "e8511bd7-0890-47af-aaac-29ade6333540"
    },
    {
      "cell_type": "markdown",
      "source": [
        "The type() function provides the data type of the variable you provide"
      ],
      "metadata": {
        "id": "82b99c75-882b-47ee-9ed5-d60e34ea9aca"
      },
      "id": "82b99c75-882b-47ee-9ed5-d60e34ea9aca"
    },
    {
      "cell_type": "code",
      "source": [
        "# Let's test the type of our variable called b\n",
        "print(type(b))\n",
        "\n",
        "# This is a function nested within a function\n",
        "# We are printing the outcome of the type() function"
      ],
      "metadata": {
        "scrolled": true,
        "id": "155df16b"
      },
      "execution_count": null,
      "outputs": [],
      "id": "155df16b"
    },
    {
      "cell_type": "markdown",
      "source": [
        "### Activity 1"
      ],
      "metadata": {
        "tags": [],
        "id": "631274a0"
      },
      "id": "631274a0"
    },
    {
      "cell_type": "markdown",
      "source": [
        "1. Create four variables and assign them an integer, a float, a string, and a Boolean value respectively\n",
        "2. Print each of the variables on the screen\n",
        "3. Print the type of each variable on the screen\n",
        "\n",
        "When you're done with Activity 1, please use the [Miro Board](https://miro.com/app/board/uXjVNCUJ0JI=/) to indicate completion in the area for this session and this activity."
      ],
      "metadata": {
        "id": "3109e195-02f3-449b-b8c5-4dd0e808639c"
      },
      "id": "3109e195-02f3-449b-b8c5-4dd0e808639c"
    },
    {
      "cell_type": "code",
      "source": [
        "#Tackle Activity 1 here\n",
        "\n",
        "\n",
        "\n",
        "\n"
      ],
      "metadata": {
        "id": "dff6eaf2"
      },
      "execution_count": null,
      "outputs": [],
      "id": "dff6eaf2"
    },
    {
      "cell_type": "markdown",
      "source": [
        "## Data Structures: Lists"
      ],
      "metadata": {
        "id": "333ece4b"
      },
      "id": "333ece4b"
    },
    {
      "cell_type": "markdown",
      "source": [
        "Programmers frequently need to handle groups of variables. It's a given that we need to do this. Python's list data structure is one of the most common."
      ],
      "metadata": {
        "id": "f4c49de9"
      },
      "id": "f4c49de9"
    },
    {
      "cell_type": "markdown",
      "source": [
        "### Create a List"
      ],
      "metadata": {
        "id": "253910dd"
      },
      "id": "253910dd"
    },
    {
      "cell_type": "code",
      "source": [
        "# Lists are defined with square brackets\n",
        "# Lists can contain any kind of variable or other Python data types\n",
        "# Items in a list are separated by commas\n",
        "\n",
        "# Create an empty list:\n",
        "my_empty_list = []\n",
        "\n",
        "# Create a list of numbers:\n",
        "my_num_list = [1,6,3,6,7,4]\n",
        "\n",
        "# Create a list of words:\n",
        "my_fish_list = ['Red drum','Sheepshead','Flounder']\n",
        "\n",
        "# Create a list of mixed data types:\n",
        "my_mix_list = ['Red drum',17,21.5,'Charleston Harbor']\n",
        "\n",
        "# Create a list of lists!!!\n",
        "# This list has three items in it, each of which is a list containing two items (a species name and a count)\n",
        "my_fishes = [['Red drum',17],['Sheepshead',12],['Flounder',3]]"
      ],
      "metadata": {
        "id": "d7fc4662"
      },
      "execution_count": null,
      "outputs": [],
      "id": "d7fc4662"
    },
    {
      "cell_type": "code",
      "source": [
        "print(my_mix_list)\n",
        "print(type(my_mix_list))"
      ],
      "metadata": {
        "id": "8656fcca-8df8-4c18-8ec6-c6088dd8323b"
      },
      "execution_count": null,
      "outputs": [],
      "id": "8656fcca-8df8-4c18-8ec6-c6088dd8323b"
    },
    {
      "cell_type": "markdown",
      "source": [
        "### Locate Items in a List"
      ],
      "metadata": {
        "id": "3e7eb6d3-4145-48d6-8491-ad01c307c7a5"
      },
      "id": "3e7eb6d3-4145-48d6-8491-ad01c307c7a5"
    },
    {
      "cell_type": "markdown",
      "source": [
        "Lists keep items in the same order they were added. We can reference items in lists by their numeric position.\n",
        "\n",
        "**Python starts counting at 0**. The first item in a list has an index (position) of 0"
      ],
      "metadata": {
        "id": "1bdb2b44"
      },
      "id": "1bdb2b44"
    },
    {
      "cell_type": "code",
      "source": [
        "my_fish_list = ['Red drum','Sheepshead','Flounder','Mackerel','Whiting','Black drum']\n",
        "\n",
        "#Print the first fish in the list using its index (position) in square brackets\n",
        "print(my_fish_list[0])"
      ],
      "metadata": {
        "id": "c12b5fbc"
      },
      "execution_count": null,
      "outputs": [],
      "id": "c12b5fbc"
    },
    {
      "cell_type": "code",
      "source": [
        "# How long is the list? There's a function for that!\n",
        "# len()\n",
        "listlength = len(my_fish_list)\n",
        "print(listlength)"
      ],
      "metadata": {
        "id": "9211a5e2"
      },
      "execution_count": null,
      "outputs": [],
      "id": "9211a5e2"
    },
    {
      "cell_type": "markdown",
      "source": [
        "### Question 2"
      ],
      "metadata": {
        "id": "366f7b73-01c9-4a35-b12f-125566b11543"
      },
      "id": "366f7b73-01c9-4a35-b12f-125566b11543"
    },
    {
      "cell_type": "markdown",
      "source": [
        "Could we have written this in one line as a nested function without creating the listlength variable?"
      ],
      "metadata": {
        "id": "f35f83f0-dad8-43d1-8454-3dd48514812a"
      },
      "id": "f35f83f0-dad8-43d1-8454-3dd48514812a"
    },
    {
      "cell_type": "code",
      "source": [],
      "metadata": {
        "id": "8676abc7-be02-481b-afed-c5087acfe1a1"
      },
      "execution_count": null,
      "outputs": [],
      "id": "8676abc7-be02-481b-afed-c5087acfe1a1"
    },
    {
      "cell_type": "code",
      "source": [
        "#So the list has six items. Print the last fish in the list using its absolute position\n",
        "print(my_fish_list[5])"
      ],
      "metadata": {
        "id": "d4a3ab5e"
      },
      "execution_count": null,
      "outputs": [],
      "id": "d4a3ab5e"
    },
    {
      "cell_type": "markdown",
      "source": [
        "### Activity 2"
      ],
      "metadata": {
        "id": "48135aa2"
      },
      "id": "48135aa2"
    },
    {
      "cell_type": "markdown",
      "source": [
        "We now have a variable called listlength that contains the length of my_fish_list.\n",
        "1. Test the type of the listlength variable. Is it an integer? If so, we can use it in a calculation.\n",
        "\n",
        "2. We know that Python starts counting at zero, so the numeric position of the last item in the list isn't the same as the length of the list. The value of our listlength variable is 6. That's one higher than the position of the last item in the list, which is 5. Print the last item in the *my_fish_list* list using the *listlength* variable and simple math to specify its index in the list"
      ],
      "metadata": {
        "id": "50307b6b"
      },
      "id": "50307b6b"
    },
    {
      "cell_type": "code",
      "source": [
        "#Tackle Activity 2 here\n",
        "\n",
        "\n",
        "\n",
        "\n"
      ],
      "metadata": {
        "id": "89e3b2d9"
      },
      "execution_count": null,
      "outputs": [],
      "id": "89e3b2d9"
    },
    {
      "cell_type": "code",
      "source": [
        "# Another way to get the last item in a list without knowing the length of the list\n",
        "# uses a negative index\n",
        "\n",
        "print(my_fish_list[-1])\n",
        "\n",
        "#And to get the penultimate item in the list use\n",
        "\n",
        "print(my_fish_list[-2])"
      ],
      "metadata": {
        "id": "0700369b"
      },
      "execution_count": null,
      "outputs": [],
      "id": "0700369b"
    },
    {
      "cell_type": "markdown",
      "source": [
        "#### Slicing Lists"
      ],
      "metadata": {
        "id": "f38e0541-e356-48f6-9a1f-2af7604f467a"
      },
      "id": "f38e0541-e356-48f6-9a1f-2af7604f467a"
    },
    {
      "cell_type": "code",
      "source": [
        "# To obtain multiple items in a list we use \"slicing\" which specifies a start and stop index\n",
        "\n",
        "print(my_fish_list[2:4])\n",
        "\n",
        "# Did you expect to get three items? The item at the Start index is included,\n",
        "# but the item at the stop index is excluded\n",
        "# We get a list containing the third and fourth items (with indexes 2 and 3)"
      ],
      "metadata": {
        "scrolled": true,
        "id": "7517e7e5"
      },
      "execution_count": null,
      "outputs": [],
      "id": "7517e7e5"
    },
    {
      "cell_type": "code",
      "source": [
        "# We can also slice multiple items from a list specifying only the start OR stop index\n",
        "\n",
        "print(my_fish_list[2:])\n",
        "\n",
        "# This gives us everything from Index 2 through the end of the list"
      ],
      "metadata": {
        "id": "7e078252"
      },
      "execution_count": null,
      "outputs": [],
      "id": "7e078252"
    },
    {
      "cell_type": "code",
      "source": [
        "print(my_fish_list[:4])\n",
        "\n",
        "# This gives us everything from the beginning of the list up until (but not including)\n",
        "# the item at Index 4"
      ],
      "metadata": {
        "id": "c25609e0"
      },
      "execution_count": null,
      "outputs": [],
      "id": "c25609e0"
    },
    {
      "cell_type": "markdown",
      "source": [
        "### Changing the Value of an Item in a List"
      ],
      "metadata": {
        "id": "45678ce6-1903-4c11-8e38-922fccebdb95"
      },
      "id": "45678ce6-1903-4c11-8e38-922fccebdb95"
    },
    {
      "cell_type": "markdown",
      "source": [
        "To change the value of an item in a list, just reference the item by its index and assign it a new value"
      ],
      "metadata": {
        "id": "b658359a-bf04-4db2-b26f-ef1dd5bb92b6"
      },
      "id": "b658359a-bf04-4db2-b26f-ef1dd5bb92b6"
    },
    {
      "cell_type": "code",
      "source": [
        "print(my_fish_list)\n",
        "\n",
        "# Let's clarify that the mackerel is actually a Spanish mackerel.\n",
        "# It is 4th in the list with an index of 3."
      ],
      "metadata": {
        "id": "1abd58d2-7255-4431-a7f7-817ae4740242"
      },
      "execution_count": null,
      "outputs": [],
      "id": "1abd58d2-7255-4431-a7f7-817ae4740242"
    },
    {
      "cell_type": "code",
      "source": [
        "my_fish_list[3]='Spanish mackerel'\n",
        "print(my_fish_list)\n"
      ],
      "metadata": {
        "id": "85a810a1-0641-403c-91d6-22f77d670c0b"
      },
      "execution_count": null,
      "outputs": [],
      "id": "85a810a1-0641-403c-91d6-22f77d670c0b"
    },
    {
      "cell_type": "markdown",
      "source": [
        "### Adding to and Removing from Lists Using \"Methods\""
      ],
      "metadata": {
        "id": "4f2f57fd"
      },
      "id": "4f2f57fd"
    },
    {
      "cell_type": "markdown",
      "source": [
        "Methods are a bit like functions, but they are limited to specific contexts. In this case, we'll use some list methods."
      ],
      "metadata": {
        "id": "2b624c46-e920-44c4-b068-dfced4d6f8ce"
      },
      "id": "2b624c46-e920-44c4-b068-dfced4d6f8ce"
    },
    {
      "cell_type": "markdown",
      "source": [
        "#### .append()"
      ],
      "metadata": {
        "id": "49e636f0-28e1-4ee2-8ce4-a1be06535e5d"
      },
      "id": "49e636f0-28e1-4ee2-8ce4-a1be06535e5d"
    },
    {
      "cell_type": "code",
      "source": [
        "# We can easily add an item to the end of the list with the append() method\n",
        "\n",
        "my_fish_list.append('Stingray')\n",
        "\n",
        "print(my_fish_list)"
      ],
      "metadata": {
        "id": "e3358909"
      },
      "execution_count": null,
      "outputs": [],
      "id": "e3358909"
    },
    {
      "cell_type": "markdown",
      "source": [
        "#### .insert()"
      ],
      "metadata": {
        "id": "259c6acc-bccf-4573-a4e3-6bcb63749d4b"
      },
      "id": "259c6acc-bccf-4573-a4e3-6bcb63749d4b"
    },
    {
      "cell_type": "code",
      "source": [
        "# We can also add an item at any index position in the list with the insert() method\n",
        "# The insert() method requires the index position followed by the data to insert.\n",
        "\n",
        "# To insert 'Tripletail' at the beginning, we'd use an index of 0.\n",
        "# To insert 'Tripletail' as the third item (assuming the list has at least two items already), we'd use an index of 2.\n",
        "\n",
        "my_fish_list.insert(2, 'Tripletail')\n",
        "\n",
        "print(my_fish_list)"
      ],
      "metadata": {
        "tags": [],
        "id": "bca2645b"
      },
      "execution_count": null,
      "outputs": [],
      "id": "bca2645b"
    },
    {
      "cell_type": "markdown",
      "source": [
        "#### .pop()"
      ],
      "metadata": {
        "id": "cf4181ad-1f78-4b23-92fd-fd40212fb97c"
      },
      "id": "cf4181ad-1f78-4b23-92fd-fd40212fb97c"
    },
    {
      "cell_type": "code",
      "source": [
        "# To remove items in a list, we 'Pop' them outtahere!\n",
        "\n",
        "#This removes the last item in the list\n",
        "# We don't want that last fish (the stingray) so let's remove it\n",
        "my_fish_list.pop()\n",
        "\n",
        "print(my_fish_list)"
      ],
      "metadata": {
        "tags": [],
        "id": "2c16b09c"
      },
      "execution_count": null,
      "outputs": [],
      "id": "2c16b09c"
    },
    {
      "cell_type": "code",
      "source": [
        "# We can also remove items at a specific index position in the list\n",
        "\n",
        "#The flounder needs to go back so it can recruit more flounder!\n",
        "#The flounder is the fourth item in the list so its index is 3.\n",
        "my_fish_list.pop(3)\n",
        "\n",
        "print(my_fish_list)"
      ],
      "metadata": {
        "id": "cc550a0f"
      },
      "execution_count": null,
      "outputs": [],
      "id": "cc550a0f"
    },
    {
      "cell_type": "markdown",
      "source": [
        "### Activity 3"
      ],
      "metadata": {
        "id": "f365ee03-79c8-4e0b-bf87-81cb01235f0a"
      },
      "id": "f365ee03-79c8-4e0b-bf87-81cb01235f0a"
    },
    {
      "cell_type": "markdown",
      "source": [
        "Follow the steps below and print your list after each stage to see your progress."
      ],
      "metadata": {
        "id": "ae9c4e48-3dd4-48ce-9133-5cb9e7a68139"
      },
      "id": "ae9c4e48-3dd4-48ce-9133-5cb9e7a68139"
    },
    {
      "cell_type": "code",
      "source": [
        "#Tackle Activity 3 here\n",
        "\n",
        "#1. Create a new empty list called chas_harbor\n",
        "\n",
        "\n",
        "#2. Use the append() method to add four strings to this list, one-by-one, representing things that you might find there (geographic features, pollutants, fish species, other sealife, people,...whatever)\n",
        "\n",
        "\n",
        "#3. Insert a fifth string to the list in the third position (remember the correct index number for the third place?)\n",
        "\n",
        "\n",
        "#4. Remove the last item from the list\n",
        "\n",
        "\n",
        "#5. Remove the second item from the list (remember the correct index number for the second item?)\n",
        "\n",
        "\n",
        "#6. Print your final list\n"
      ],
      "metadata": {
        "id": "1d6c1ea3-10fc-4fb0-b60e-eacf38885be6"
      },
      "execution_count": null,
      "outputs": [],
      "id": "1d6c1ea3-10fc-4fb0-b60e-eacf38885be6"
    },
    {
      "cell_type": "markdown",
      "source": [
        "## Data Structures: Dictionaries"
      ],
      "metadata": {
        "id": "0fbdea1f-2005-4b07-aac2-10a3f13ffd44"
      },
      "id": "0fbdea1f-2005-4b07-aac2-10a3f13ffd44"
    },
    {
      "cell_type": "markdown",
      "source": [
        "### Create a Dictionary"
      ],
      "metadata": {
        "id": "e6ee38ed-54aa-47b3-9263-baf51d6e341c"
      },
      "id": "e6ee38ed-54aa-47b3-9263-baf51d6e341c"
    },
    {
      "cell_type": "code",
      "source": [
        "# Dictionaries are defined with curly braces\n",
        "# Dictionaries contain pairs of data, often referred to as keys and values\n",
        "# Dictionary keys must be unique (a key can only occur once in the dictionary)\n",
        "# Dictionary values can contain any kind of variable or other Python data types\n",
        "\n",
        "\n",
        "# Create an empty dictionary:\n",
        "my_empty_dict = {}\n",
        "\n",
        "# Create a dictionary of fish catches:\n",
        "my_fish_dict = {'Red drum':7,'Blacktip':4,'Flounder':1,'Spotted seatrout':1,'Whiting':14}\n",
        "# Here, the keys are the fish names and the values are the number we caught\n",
        "\n",
        "# Create a dictionary of lists!!!\n",
        "# This dictionary uses fishing locations as the keys and the value is a list of fish types caught at that location\n",
        "my_fish_trips = {'Charleston_harbor':['Red drum','Flounder','Spotted seatrout'],\n",
        "                 'Hilton_head':['Red drum','Blacktip'],\n",
        "                 'St. Helena Sound':['Red drum', 'Blacktip', 'Whiting']}"
      ],
      "metadata": {
        "id": "5964fb28-c0e3-47dc-bf91-9c2f867d4c80"
      },
      "execution_count": null,
      "outputs": [],
      "id": "5964fb28-c0e3-47dc-bf91-9c2f867d4c80"
    },
    {
      "cell_type": "code",
      "source": [
        "print(my_fish_dict)\n",
        "print(type(my_fish_dict))"
      ],
      "metadata": {
        "tags": [],
        "id": "d5bb8e77-0c98-474a-8d05-ff5f89dff71f"
      },
      "execution_count": null,
      "outputs": [],
      "id": "d5bb8e77-0c98-474a-8d05-ff5f89dff71f"
    },
    {
      "cell_type": "markdown",
      "source": [
        "### Get the value of a single item in a dictionary be referencing its key"
      ],
      "metadata": {
        "id": "ad9c86e1-e2e1-4765-a999-4af0880cb422"
      },
      "id": "ad9c86e1-e2e1-4765-a999-4af0880cb422"
    },
    {
      "cell_type": "code",
      "source": [
        "# How many Whiting did we catch?\n",
        "print(my_fish_dict['Whiting'])"
      ],
      "metadata": {
        "id": "21758aa9-f556-4b20-8f16-a6e2e173227c"
      },
      "execution_count": null,
      "outputs": [],
      "id": "21758aa9-f556-4b20-8f16-a6e2e173227c"
    },
    {
      "cell_type": "markdown",
      "source": [
        "Here we use several dictionary methods .keys(), .values(), .items()"
      ],
      "metadata": {
        "id": "e7af2589-9034-4f81-9e79-4ea4e527f1a5"
      },
      "id": "e7af2589-9034-4f81-9e79-4ea4e527f1a5"
    },
    {
      "cell_type": "markdown",
      "source": [
        "### Get a list of all the keys with .keys()"
      ],
      "metadata": {
        "id": "99bade45-d513-4f29-a35a-ad134e4aab5b"
      },
      "id": "99bade45-d513-4f29-a35a-ad134e4aab5b"
    },
    {
      "cell_type": "code",
      "source": [
        "print(my_fish_dict.keys())"
      ],
      "metadata": {
        "id": "c3bad991-b853-4e41-8356-31904cbd32a3"
      },
      "execution_count": null,
      "outputs": [],
      "id": "c3bad991-b853-4e41-8356-31904cbd32a3"
    },
    {
      "cell_type": "markdown",
      "source": [
        "### Get a list of all the values with .values()"
      ],
      "metadata": {
        "id": "996b271a-b70e-4e14-9c39-74d272e26bc1"
      },
      "id": "996b271a-b70e-4e14-9c39-74d272e26bc1"
    },
    {
      "cell_type": "code",
      "source": [
        "print(my_fish_dict.values())"
      ],
      "metadata": {
        "id": "4eb6a188-1968-4a6f-b939-0234302c2348"
      },
      "execution_count": null,
      "outputs": [],
      "id": "4eb6a188-1968-4a6f-b939-0234302c2348"
    },
    {
      "cell_type": "markdown",
      "source": [
        "### Get a list of all the keys and values with .items()"
      ],
      "metadata": {
        "id": "5dd34db9-5bfd-48ef-be54-eb7f23a8afaf"
      },
      "id": "5dd34db9-5bfd-48ef-be54-eb7f23a8afaf"
    },
    {
      "cell_type": "code",
      "source": [
        "print(my_fish_dict.items())\n",
        "# This actually give us a list of tuples. Tuples are another data structure much like lists, but they cannot be modified"
      ],
      "metadata": {
        "id": "d93e857a-a199-4830-b063-b391eef9fd0d"
      },
      "execution_count": null,
      "outputs": [],
      "id": "d93e857a-a199-4830-b063-b391eef9fd0d"
    },
    {
      "cell_type": "markdown",
      "source": [
        "### Find the length of the dictionary"
      ],
      "metadata": {
        "id": "25d833d4-5509-41d5-af60-496485a80818"
      },
      "id": "25d833d4-5509-41d5-af60-496485a80818"
    },
    {
      "cell_type": "code",
      "source": [
        "print(len(my_fish_dict))"
      ],
      "metadata": {
        "id": "331f4be6-f535-45c9-8a35-a1347b355800"
      },
      "execution_count": null,
      "outputs": [],
      "id": "331f4be6-f535-45c9-8a35-a1347b355800"
    },
    {
      "cell_type": "code",
      "source": [
        "print(my_fish_dict)"
      ],
      "metadata": {
        "id": "598fed15-efaf-4498-bd08-97ffed720d52"
      },
      "execution_count": null,
      "outputs": [],
      "id": "598fed15-efaf-4498-bd08-97ffed720d52"
    },
    {
      "cell_type": "markdown",
      "source": [
        "### Activity 4"
      ],
      "metadata": {
        "id": "f88d8536-0145-4c9c-a1f0-a0ec49e693d4"
      },
      "id": "f88d8536-0145-4c9c-a1f0-a0ec49e693d4"
    },
    {
      "cell_type": "markdown",
      "source": [
        "Create a new dictionary to contain research vessel trip data (call it what you wish), containing the following two vessel names as keys and their trip counts as values:\n",
        "*  Discovery with 19 trips\n",
        "*  Silver Crescent with 29 trips\n",
        "\n",
        "Print your dictionary"
      ],
      "metadata": {
        "id": "d6147228-39a4-4f9c-baea-42ec31019c32"
      },
      "id": "d6147228-39a4-4f9c-baea-42ec31019c32"
    },
    {
      "cell_type": "code",
      "source": [
        "# Tackle Activity 4 here\n",
        "\n",
        "\n",
        "\n",
        "\n"
      ],
      "metadata": {
        "id": "a2cf7aab-f081-40ec-ab41-531a272b78f0"
      },
      "execution_count": null,
      "outputs": [],
      "id": "a2cf7aab-f081-40ec-ab41-531a272b78f0"
    },
    {
      "cell_type": "markdown",
      "source": [
        "### Add New Items to a Dictionary"
      ],
      "metadata": {
        "tags": [],
        "id": "44d0f77f-1952-4a21-af5c-3fd53b2c6b87"
      },
      "id": "44d0f77f-1952-4a21-af5c-3fd53b2c6b87"
    },
    {
      "cell_type": "code",
      "source": [
        "my_fish_dict['Sheepshead'] = 3\n",
        "print(my_fish_dict)"
      ],
      "metadata": {
        "id": "43c16b09-cbbe-4ffe-ad9a-d1e95369cbbd"
      },
      "execution_count": null,
      "outputs": [],
      "id": "43c16b09-cbbe-4ffe-ad9a-d1e95369cbbd"
    },
    {
      "cell_type": "markdown",
      "source": [
        "### Update the value of an item in the dictionary"
      ],
      "metadata": {
        "id": "81027912-6d69-4585-bf74-70bf0362f1ee"
      },
      "id": "81027912-6d69-4585-bf74-70bf0362f1ee"
    },
    {
      "cell_type": "code",
      "source": [
        "# Suppose we caught four more Sheepshead. We need to modify the Sheepshead count in our dictionary\n",
        "# We could rewrite the value explicitly\n",
        "my_fish_dict['Sheepshead']=7\n",
        "print(my_fish_dict)"
      ],
      "metadata": {
        "id": "eb560d83-f53f-401a-9286-eed61313c7dd"
      },
      "execution_count": null,
      "outputs": [],
      "id": "eb560d83-f53f-401a-9286-eed61313c7dd"
    },
    {
      "cell_type": "code",
      "source": [
        "# OR, we could do some math instead\n",
        "# First, let's set the Sheepshead catch count back to 3\n",
        "my_fish_dict['Sheepshead']=3\n",
        "print(my_fish_dict)\n",
        "\n",
        "# Now let's use math to add 4 more fish to the existing Sheepshead count\n",
        "my_fish_dict['Sheepshead']=my_fish_dict['Sheepshead']+4\n",
        "print(my_fish_dict)"
      ],
      "metadata": {
        "id": "e582d491-1bb8-453a-99e9-772fbedd4162"
      },
      "execution_count": null,
      "outputs": [],
      "id": "e582d491-1bb8-453a-99e9-772fbedd4162"
    },
    {
      "cell_type": "markdown",
      "source": [
        "### Remove an item from the dictionary"
      ],
      "metadata": {
        "id": "71692545-01b5-4b41-adbd-6bd95c7e6c64"
      },
      "id": "71692545-01b5-4b41-adbd-6bd95c7e6c64"
    },
    {
      "cell_type": "code",
      "source": [
        "# Remember the .pop() method from lists? It's a dictionary method too.\n",
        "# Let's remove Flounder from our dictionary\n",
        "\n",
        "my_fish_dict.pop(\"Flounder\")\n",
        "print(my_fish_dict)"
      ],
      "metadata": {
        "id": "b9ade272-a940-451a-9a94-22a2b62bd764"
      },
      "execution_count": null,
      "outputs": [],
      "id": "b9ade272-a940-451a-9a94-22a2b62bd764"
    },
    {
      "cell_type": "markdown",
      "source": [
        "### Activity 5"
      ],
      "metadata": {
        "id": "acf875b3-32ba-43eb-8cb7-87168690789c"
      },
      "id": "acf875b3-32ba-43eb-8cb7-87168690789c"
    },
    {
      "cell_type": "markdown",
      "source": [
        "1. Add the following two research vessels with the following numbers of trips to the dictionary you created in Activity 4:\n",
        "\n",
        "*  Palmetto - 17  \n",
        "*  Lady Lisa - 24\n",
        "\n",
        "2. The Palmetto just made three more trips. Modify the trip count mathematically\n",
        "3. Remove the Discovery from your dictionary\n",
        "\n",
        "Print your dictionary"
      ],
      "metadata": {
        "id": "091745e8-566f-4a5f-af4e-0a9bad670d28"
      },
      "id": "091745e8-566f-4a5f-af4e-0a9bad670d28"
    },
    {
      "cell_type": "code",
      "source": [
        "# Tackle Activity 5 here\n",
        "\n",
        "\n",
        "\n",
        "\n",
        "\n"
      ],
      "metadata": {
        "id": "35c3001a-78de-4ac3-a392-41c515c3e880"
      },
      "execution_count": null,
      "outputs": [],
      "id": "35c3001a-78de-4ac3-a392-41c515c3e880"
    },
    {
      "cell_type": "markdown",
      "source": [
        "### Summative Assessment Quiz"
      ],
      "metadata": {
        "id": "9870bd91-3055-4f0e-8e49-9590a0f2d3e9"
      },
      "id": "9870bd91-3055-4f0e-8e49-9590a0f2d3e9"
    },
    {
      "cell_type": "markdown",
      "source": [
        "The purpose of summative assessment quizzes is twofold:\n",
        "\n",
        "1) The process of recall helps to transfer information from short term to longer term memory.\n",
        "2) The quizzes help us evaluate the effectiveness of our training sessions.\n",
        "\n",
        "Take [Summative Assessment Quiz 1](https://cofc.libwizard.com/f/intro-python-1) to test your knowledge about this session."
      ],
      "metadata": {
        "id": "fff03140-3f56-4977-bd67-9bdab7bd2a2c"
      },
      "id": "fff03140-3f56-4977-bd67-9bdab7bd2a2c"
    },
    {
      "cell_type": "markdown",
      "source": [
        "### Resources"
      ],
      "metadata": {
        "id": "09358396-3e8d-4aca-87fc-37497ff3bfcf"
      },
      "id": "09358396-3e8d-4aca-87fc-37497ff3bfcf"
    },
    {
      "cell_type": "markdown",
      "source": [
        "* [Python Documentation - Numbers and Strings](https://docs.python.org/3/tutorial/introduction.html#using-python-as-a-calculator)\n",
        "* [Python Documentation - Lists](https://docs.python.org/3/tutorial/datastructures.html#more-on-lists)\n",
        "* [Python Documentation - Dictionaries](https://docs.python.org/3/tutorial/datastructures.html#dictionaries)\n",
        "* [Python Documentation - Built in Functions](https://docs.python.org/3/library/functions.html)"
      ],
      "metadata": {
        "id": "364f8b32-7b5c-4dcd-af1a-97e74d191aa4"
      },
      "id": "364f8b32-7b5c-4dcd-af1a-97e74d191aa4"
    }
  ]
}